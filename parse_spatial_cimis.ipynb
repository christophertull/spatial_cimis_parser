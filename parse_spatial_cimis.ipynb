{
 "cells": [
  {
   "cell_type": "code",
   "execution_count": 142,
   "metadata": {},
   "outputs": [],
   "source": [
    "import numpy as np\n",
    "import pandas as pd\n",
    "import cStringIO\n",
    "import psycopg2 as pg\n",
    "\n",
    "pd.set_option(\"MAX_ROWS\", 100)"
   ]
  },
  {
   "cell_type": "code",
   "execution_count": 99,
   "metadata": {
    "collapsed": true
   },
   "outputs": [],
   "source": [
    "def create_grid_coords(nrows, ncols, xllcenter, yllcenter, cellsize):\n",
    "    \"\"\"Create a vector of gridded coordinates.\n",
    "        \n",
    "    returns: (x , y , coords) where\n",
    "        x is an RxC ndarray of xcoords for each cimis grid centroid\n",
    "        y is an RxC ndarray of ycoords for each cimis grid centroid\n",
    "        coords is an RxC chararray of unique identifiers of the form for 'XxYy' (e.g. '-409000x459000y')\n",
    "            with X representing the xcoord of that grid cell and Y the ycoord of the grid cell\n",
    "    \"\"\"\n",
    "    # create matrix of x coordinates for cells in EPSG 3310\n",
    "    x = np.ndarray((nrows,ncols)) + xllcenter\n",
    "    offsets = cellsize*np.arange(ncols)\n",
    "    x = x + offsets\n",
    "    \n",
    "    # create matrix of y coordinates for cells in EPSG 3310\n",
    "    y = np.ndarray((nrows,ncols)) + yllcenter\n",
    "    offsets = cellsize*np.arange(nrows)\n",
    "    y = np.flipud(np.transpose(np.transpose(y) + offsets))\n",
    "    \n",
    "    # create matrix of unique identifiers for each cell by appending x and y coords into a string\n",
    "    xcoords = np.core.defchararray.add(x.astype(int).astype(str), \"x\" )\n",
    "    ycoords = np.core.defchararray.add(y.astype(int).astype(str), \"y\" )\n",
    "    coords = np.core.defchararray.add(xcoords, ycoords)\n",
    "    \n",
    "    return (x, y, coords)"
   ]
  },
  {
   "cell_type": "code",
   "execution_count": 101,
   "metadata": {
    "collapsed": true
   },
   "outputs": [],
   "source": [
    "def get_formatted_url(year, month, day, data_field):\n",
    "    \"\"\"Create a formatted url to query for a single Spatial CIMIS data file.\n",
    "    \n",
    "    returns: url a formatted url string\n",
    "    \"\"\"\n",
    "    url = \"http://cimis.casil.ucdavis.edu/cimis/{}/{:02d}/{:02d}/{}.asc.gz\".format(year, month, day, data_field)\n",
    "    return url"
   ]
  },
  {
   "cell_type": "code",
   "execution_count": 116,
   "metadata": {},
   "outputs": [],
   "source": [
    "from StringIO import StringIO\n",
    "import gzip\n",
    "import urllib2\n",
    "\n",
    "request = urllib2.Request(\"http://cimis.casil.ucdavis.edu/cimis/2003/02/20/Rso.asc.gz\")\n",
    "request.add_header('Accept-encoding', 'gzip')\n",
    "response = urllib2.urlopen(request)"
   ]
  },
  {
   "cell_type": "code",
   "execution_count": 117,
   "metadata": {},
   "outputs": [],
   "source": [
    "if response.info().get('Content-Encoding') == 'gzip':\n",
    "    buf = StringIO(response.read())\n",
    "    f = gzip.GzipFile(fileobj=buf)"
   ]
  },
  {
   "cell_type": "code",
   "execution_count": 134,
   "metadata": {
    "scrolled": false
   },
   "outputs": [
    {
     "data": {
      "text/plain": [
       "'NODATA_value -9999\\n'"
      ]
     },
     "execution_count": 134,
     "metadata": {},
     "output_type": "execute_result"
    }
   ],
   "source": [
    "f.readline()"
   ]
  },
  {
   "cell_type": "code",
   "execution_count": 167,
   "metadata": {
    "collapsed": true
   },
   "outputs": [],
   "source": [
    "rso_coord_vec = create_grid_coords(552, 500, -399000, -649000, 2000)"
   ]
  },
  {
   "cell_type": "code",
   "execution_count": 132,
   "metadata": {},
   "outputs": [],
   "source": [
    "def parse_spatial_cimis_field(url, vec_len):\n",
    "    \"\"\"Fetch Spatial CIMIS data in asc format from the url and parse into a 'long' output vector.\n",
    "    \n",
    "    return: CIMIS data reshaped into a single pandas Series (row-major format)\n",
    "    \"\"\"\n",
    "    #df = pd.read_csv(\"../../../../Dropbox/CIMIS/ET2003_02_20.asc\", sep=\" \", header=None, skiprows=6)\n",
    "    df = pd.read_csv(url, compression=\"gzip\", sep=\" \", header=None, skiprows=6)\n",
    "    df = df.loc[:,df.mean().notnull()]\n",
    "    print df.shape\n",
    "    return df.values.reshape(vec_len)"
   ]
  },
  {
   "cell_type": "code",
   "execution_count": 86,
   "metadata": {
    "collapsed": true
   },
   "outputs": [],
   "source": [
    "def get_tidy_cimis_daily(year, month, day, coord_vec=None):\n",
    "    \"\"\"Query all of the different Spatial CIMIS data fields for a single day and\n",
    "    assemble them into a dataframe format suitable for storing in a relational database. \n",
    "    This includes the addition of contextual fields like coordinates, date fields,\n",
    "    and a unique identifier.\n",
    "    \n",
    "    returns: output a pandas dataframe where each row holds all of the measurements for a given grid cell\n",
    "        on a particular date.\n",
    "    \"\"\"\n",
    "    \n",
    "    print \"Parsing data for\", pd.datetime(year, month, day)\n",
    "    \n",
    "    if coord_vec is None:\n",
    "        coord_vec = create_grid_coords()\n",
    "        \n",
    "    x, y, coords = coord_vec\n",
    "    \n",
    "    out_dict = {\n",
    "        \"sc_cell_id\": coords.reshape(total_cells),\n",
    "        \"sc_x\": x.reshape(total_cells).astype(int),\n",
    "        \"sc_y\": y.reshape(total_cells).astype(int),\n",
    "        \"sc_year\": year,\n",
    "        \"sc_month\": month,\n",
    "        \"sc_day\": day,\n",
    "        \"sc_date\": pd.datetime(year, month, day)\n",
    "    }\n",
    "    \n",
    "    fieldlist = [\"ETo\", \"K\", \"Rnl\", \"Rs\", #\"Rso\", \"Tdew\", \"Tn\", \"Tx\", \"U2\"]\n",
    "    \n",
    "    for field in fieldlist:\n",
    "        url = get_formatted_url(year, month, day, field)\n",
    "        print url\n",
    "        fieldname = \"sc_{}\".format(field).lower()\n",
    "        out_dict[fieldname] = parse_spatial_cimis_field(url)\n",
    "                          \n",
    "    \n",
    "    # assemble output dataframe by melting/reshaping above matrices into single columns\n",
    "    output = pd.DataFrame(out_dict).replace(NODATA_value, np.nan)\n",
    "    output = output.dropna(how=\"all\", subset=fieldlist)\n",
    "    \n",
    "    return output"
   ]
  },
  {
   "cell_type": "code",
   "execution_count": 144,
   "metadata": {
    "scrolled": true
   },
   "outputs": [
    {
     "name": "stdout",
     "output_type": "stream",
     "text": [
      "http://cimis.casil.ucdavis.edu/cimis/2003/02/20/ETo.asc.gz\n",
      "(560, 510)\n",
      "http://cimis.casil.ucdavis.edu/cimis/2003/02/20/K.asc.gz\n",
      "(560, 510)\n",
      "http://cimis.casil.ucdavis.edu/cimis/2003/02/20/Rnl.asc.gz\n",
      "(560, 510)\n",
      "http://cimis.casil.ucdavis.edu/cimis/2003/02/20/Rs.asc.gz\n",
      "(560, 510)\n",
      "http://cimis.casil.ucdavis.edu/cimis/2003/02/20/Tdew.asc.gz\n",
      "(560, 510)\n",
      "http://cimis.casil.ucdavis.edu/cimis/2003/02/20/Tn.asc.gz\n",
      "(560, 510)\n",
      "http://cimis.casil.ucdavis.edu/cimis/2003/02/20/Tx.asc.gz\n",
      "(560, 510)\n",
      "http://cimis.casil.ucdavis.edu/cimis/2003/02/20/U2.asc.gz\n",
      "(560, 510)\n"
     ]
    }
   ],
   "source": [
    "def get_tidy_cimis_daily(year, month, day, coord_vec=None, rso_coord_vec=None):\n",
    "    \"\"\"Query all of the different Spatial CIMIS data fields for a single day and\n",
    "    assemble them into a dataframe format suitable for storing in a relational database. \n",
    "    This includes the addition of contextual fields like coordinates, date fields,\n",
    "    and a unique identifier.\n",
    "    \n",
    "    returns: output a pandas dataframe where each row holds all of the measurements for a given grid cell\n",
    "        on a particular date.\n",
    "    \"\"\"\n",
    "    if coord_vec is None:\n",
    "        coord_vec = create_grid_coords(nrows, ncols, xllcorner, yllcorner, cellsize)\n",
    "    if rso_coord_vec is None:\n",
    "        rso_coord_vec = create_grid_coords(552, 500, -399000, -649000, 2000)\n",
    "\n",
    "    #get data for all filds except Rso\n",
    "    x, y, coords = coord_vec\n",
    "    out_dict = {\n",
    "        \"sc_cell_id\": coords.reshape(total_cells),\n",
    "        \"sc_x\": x.reshape(total_cells).astype(int),\n",
    "        \"sc_y\": y.reshape(total_cells).astype(int),\n",
    "        \"sc_year\": year,\n",
    "        \"sc_month\": month,\n",
    "        \"sc_day\": day,\n",
    "        \"sc_date\": pd.datetime(year, month, day)\n",
    "    }\n",
    "\n",
    "    fieldlist = [\"ETo\", \"K\", \"Rnl\", \"Rs\", \"Tdew\", \"Tn\", \"Tx\", \"U2\"]\n",
    "\n",
    "    for field in fieldlist:\n",
    "        url = get_formatted_url(year, month, day, field)\n",
    "        print url\n",
    "        fieldname = \"sc_{}\".format(field).lower()\n",
    "        out_dict[fieldname] = parse_spatial_cimis_field(url, total_cells)\n",
    "\n",
    "\n",
    "    #special treatment for Rso because of different matrix size\n",
    "    x, y, rso_coords = rso_coord_vec\n",
    "    rso_out_dict = {\n",
    "        \"sc_cell_id\": rso_coords.reshape(552*500),\n",
    "    }\n",
    "\n",
    "    field = \"Rso\"\n",
    "    url = get_formatted_url(year, month, day, field)\n",
    "    print url\n",
    "    fieldname = \"sc_{}\".format(field).lower()\n",
    "    rso_out_dict[fieldname] = parse_spatial_cimis_field(url, 552*500)\n",
    "\n",
    "    #merge outputs into a single dataframe and drop nulls\n",
    "    output = pd.DataFrame(out_dict).replace(NODATA_value, np.nan)\n",
    "    rso_output = pd.DataFrame(rso_out_dict).replace(NODATA_value, np.nan)\n",
    "    output = output.merge(rso_output, how=\"left\", on=\"sc_cell_id\")\n",
    "    output = output.dropna(how=\"all\", subset=['sc_eto'])\n",
    "    \n",
    "    return output"
   ]
  },
  {
   "cell_type": "code",
   "execution_count": 87,
   "metadata": {
    "collapsed": true
   },
   "outputs": [],
   "source": [
    "def get_tidy_cimis_daterange(start_date=None, end_date=None, coord_vec=None):\n",
    "\n",
    "    if start_date < pd.datetime(\"2003-02-20\"):\n",
    "        raise ValueError(\"no data available before 2003-02-20\")\n",
    "    \n",
    "    if start_date > end_date:\n",
    "        raise ValueError(\"start_date must be <= end_date\")\n",
    "    \n",
    "    print \"Fetching data from\", start_date, \"to\", end_date\n",
    "    \n",
    "    if coord_vec is None:\n",
    "        coord_vec = create_grid_coords()\n",
    "        \n",
    "    #TODO iterate over the dates in the range and call tidy_cimis_daily for each"
   ]
  },
  {
   "cell_type": "code",
   "execution_count": 88,
   "metadata": {
    "collapsed": true
   },
   "outputs": [],
   "source": [
    "def to_pg(df, tbl_name, conn, cols):\n",
    "    output = cStringIO.StringIO()\n",
    "    df.to_csv(output, sep=\"\\t\", header=False, index=False)\n",
    "    output.getvalue()\n",
    "    output.seek(0)\n",
    "    \n",
    "    cur = conn.cursor()\n",
    "    cur.copy_from(output, tbl_name, null=\"\", columns=(cols))\n",
    "    conn.commit()\n",
    "    cur.close()"
   ]
  },
  {
   "cell_type": "code",
   "execution_count": 89,
   "metadata": {
    "collapsed": true
   },
   "outputs": [],
   "source": [
    "ncols = 510\n",
    "nrows = 560\n",
    "xllcorner = -410000\n",
    "yllcorner = -660000\n",
    "cellsize = 2000.000000\n",
    "NODATA_value = -9999\n",
    "\n",
    "total_cells = nrows*ncols\n",
    "xllcenter = xllcorner + int(cellsize/2)\n",
    "yllcenter = yllcorner + int(cellsize/2)\n",
    "\n",
    "coord_vec = create_grid_coords()\n",
    "\n",
    "year = 2003\n",
    "month = 2\n",
    "day = 20\n",
    "\n"
   ]
  },
  {
   "cell_type": "code",
   "execution_count": 90,
   "metadata": {},
   "outputs": [
    {
     "name": "stdout",
     "output_type": "stream",
     "text": [
      "Parsing data for 2004-02-20 00:00:00\n",
      "http://cimis.casil.ucdavis.edu/cimis/2004/02/20/ETo.asc.gz\n",
      "(560, 510)\n",
      "http://cimis.casil.ucdavis.edu/cimis/2004/02/20/K.asc.gz\n",
      "(560, 510)\n",
      "http://cimis.casil.ucdavis.edu/cimis/2004/02/20/Rnl.asc.gz\n",
      "(560, 510)\n",
      "http://cimis.casil.ucdavis.edu/cimis/2004/02/20/Rs.asc.gz\n",
      "(560, 510)\n",
      "http://cimis.casil.ucdavis.edu/cimis/2004/02/20/Tdew.asc.gz\n",
      "(560, 510)\n",
      "http://cimis.casil.ucdavis.edu/cimis/2004/02/20/Tn.asc.gz\n",
      "(560, 510)\n",
      "http://cimis.casil.ucdavis.edu/cimis/2004/02/20/Tx.asc.gz\n",
      "(560, 510)\n",
      "http://cimis.casil.ucdavis.edu/cimis/2004/02/20/U2.asc.gz\n",
      "(560, 510)\n"
     ]
    },
    {
     "ename": "KeyError",
     "evalue": "['ETo', 'K', 'Rnl', 'Rs', 'Tdew', 'Tn', 'Tx', 'U2']",
     "output_type": "error",
     "traceback": [
      "\u001b[0;31m---------------------------------------------------------------------------\u001b[0m",
      "\u001b[0;31mKeyError\u001b[0m                                  Traceback (most recent call last)",
      "\u001b[0;32m<ipython-input-90-9ab6c7ceb039>\u001b[0m in \u001b[0;36m<module>\u001b[0;34m()\u001b[0m\n\u001b[0;32m----> 1\u001b[0;31m \u001b[0mdf\u001b[0m \u001b[1;33m=\u001b[0m \u001b[0mget_tidy_cimis_daily\u001b[0m\u001b[1;33m(\u001b[0m\u001b[1;36m2004\u001b[0m\u001b[1;33m,\u001b[0m \u001b[1;36m2\u001b[0m\u001b[1;33m,\u001b[0m \u001b[1;36m20\u001b[0m\u001b[1;33m,\u001b[0m \u001b[0mcoord_vec\u001b[0m\u001b[1;33m)\u001b[0m\u001b[1;33m\u001b[0m\u001b[0m\n\u001b[0m",
      "\u001b[0;32m<ipython-input-86-5d7f5b093f89>\u001b[0m in \u001b[0;36mget_tidy_cimis_daily\u001b[0;34m(year, month, day, coord_vec)\u001b[0m\n\u001b[1;32m     34\u001b[0m     \u001b[1;31m# assemble output dataframe by melting/reshaping above matrices into single columns\u001b[0m\u001b[1;33m\u001b[0m\u001b[1;33m\u001b[0m\u001b[0m\n\u001b[1;32m     35\u001b[0m     \u001b[0moutput\u001b[0m \u001b[1;33m=\u001b[0m \u001b[0mpd\u001b[0m\u001b[1;33m.\u001b[0m\u001b[0mDataFrame\u001b[0m\u001b[1;33m(\u001b[0m\u001b[0mout_dict\u001b[0m\u001b[1;33m)\u001b[0m\u001b[1;33m.\u001b[0m\u001b[0mreplace\u001b[0m\u001b[1;33m(\u001b[0m\u001b[0mNODATA_value\u001b[0m\u001b[1;33m,\u001b[0m \u001b[0mnp\u001b[0m\u001b[1;33m.\u001b[0m\u001b[0mnan\u001b[0m\u001b[1;33m)\u001b[0m\u001b[1;33m\u001b[0m\u001b[0m\n\u001b[0;32m---> 36\u001b[0;31m     \u001b[0moutput\u001b[0m \u001b[1;33m=\u001b[0m \u001b[0moutput\u001b[0m\u001b[1;33m.\u001b[0m\u001b[0mdropna\u001b[0m\u001b[1;33m(\u001b[0m\u001b[0mhow\u001b[0m\u001b[1;33m=\u001b[0m\u001b[1;34m\"all\"\u001b[0m\u001b[1;33m,\u001b[0m \u001b[0msubset\u001b[0m\u001b[1;33m=\u001b[0m\u001b[0mfieldlist\u001b[0m\u001b[1;33m)\u001b[0m\u001b[1;33m\u001b[0m\u001b[0m\n\u001b[0m\u001b[1;32m     37\u001b[0m \u001b[1;33m\u001b[0m\u001b[0m\n\u001b[1;32m     38\u001b[0m     \u001b[1;32mreturn\u001b[0m \u001b[0moutput\u001b[0m\u001b[1;33m\u001b[0m\u001b[0m\n",
      "\u001b[0;32mC:\\Users\\Christopher\\Anaconda2\\lib\\site-packages\\pandas\\core\\frame.pyc\u001b[0m in \u001b[0;36mdropna\u001b[0;34m(self, axis, how, thresh, subset, inplace)\u001b[0m\n\u001b[1;32m   3088\u001b[0m                 \u001b[0mcheck\u001b[0m \u001b[1;33m=\u001b[0m \u001b[0mindices\u001b[0m \u001b[1;33m==\u001b[0m \u001b[1;33m-\u001b[0m\u001b[1;36m1\u001b[0m\u001b[1;33m\u001b[0m\u001b[0m\n\u001b[1;32m   3089\u001b[0m                 \u001b[1;32mif\u001b[0m \u001b[0mcheck\u001b[0m\u001b[1;33m.\u001b[0m\u001b[0many\u001b[0m\u001b[1;33m(\u001b[0m\u001b[1;33m)\u001b[0m\u001b[1;33m:\u001b[0m\u001b[1;33m\u001b[0m\u001b[0m\n\u001b[0;32m-> 3090\u001b[0;31m                     \u001b[1;32mraise\u001b[0m \u001b[0mKeyError\u001b[0m\u001b[1;33m(\u001b[0m\u001b[0mlist\u001b[0m\u001b[1;33m(\u001b[0m\u001b[0mnp\u001b[0m\u001b[1;33m.\u001b[0m\u001b[0mcompress\u001b[0m\u001b[1;33m(\u001b[0m\u001b[0mcheck\u001b[0m\u001b[1;33m,\u001b[0m \u001b[0msubset\u001b[0m\u001b[1;33m)\u001b[0m\u001b[1;33m)\u001b[0m\u001b[1;33m)\u001b[0m\u001b[1;33m\u001b[0m\u001b[0m\n\u001b[0m\u001b[1;32m   3091\u001b[0m                 \u001b[0magg_obj\u001b[0m \u001b[1;33m=\u001b[0m \u001b[0mself\u001b[0m\u001b[1;33m.\u001b[0m\u001b[0mtake\u001b[0m\u001b[1;33m(\u001b[0m\u001b[0mindices\u001b[0m\u001b[1;33m,\u001b[0m \u001b[0maxis\u001b[0m\u001b[1;33m=\u001b[0m\u001b[0magg_axis\u001b[0m\u001b[1;33m)\u001b[0m\u001b[1;33m\u001b[0m\u001b[0m\n\u001b[1;32m   3092\u001b[0m \u001b[1;33m\u001b[0m\u001b[0m\n",
      "\u001b[0;31mKeyError\u001b[0m: ['ETo', 'K', 'Rnl', 'Rs', 'Tdew', 'Tn', 'Tx', 'U2']"
     ]
    }
   ],
   "source": [
    "df = get_tidy_cimis_daily(2004, 2, 20, coord_vec)"
   ]
  },
  {
   "cell_type": "code",
   "execution_count": 198,
   "metadata": {
    "collapsed": true
   },
   "outputs": [],
   "source": [
    "dbname = 'postgres'\n",
    "dbuser = 'postgres'\n",
    "dbpass = '*****'\n",
    "dbhost = 'localhost'\n",
    "dbport = 5433"
   ]
  },
  {
   "cell_type": "code",
   "execution_count": 35,
   "metadata": {},
   "outputs": [],
   "source": [
    "connection = pg.connect(database=dbname,\n",
    "                                user=dbuser,\n",
    "                                password=dbpass,\n",
    "                                host=dbhost,\n",
    "                                port=dbport)\n",
    "\n",
    "to_pg(df, \"spatial_cimis_reading\", connection, cols=df.columns.values)"
   ]
  },
  {
   "cell_type": "code",
   "execution_count": 21,
   "metadata": {},
   "outputs": [
    {
     "data": {
      "text/html": [
       "<div>\n",
       "<table border=\"1\" class=\"dataframe\">\n",
       "  <thead>\n",
       "    <tr style=\"text-align: right;\">\n",
       "      <th></th>\n",
       "      <th>sc_cell_id</th>\n",
       "      <th>sc_date</th>\n",
       "      <th>sc_day</th>\n",
       "      <th>sc_eto</th>\n",
       "      <th>sc_k</th>\n",
       "      <th>sc_month</th>\n",
       "      <th>sc_rnl</th>\n",
       "      <th>sc_rs</th>\n",
       "      <th>sc_rso</th>\n",
       "      <th>sc_tdew</th>\n",
       "      <th>sc_tn</th>\n",
       "      <th>sc_tx</th>\n",
       "      <th>sc_u2</th>\n",
       "      <th>sc_x</th>\n",
       "      <th>sc_y</th>\n",
       "      <th>sc_year</th>\n",
       "    </tr>\n",
       "  </thead>\n",
       "  <tbody>\n",
       "    <tr>\n",
       "      <th>0</th>\n",
       "      <td>-409000x459000y</td>\n",
       "      <td>2003-02-20</td>\n",
       "      <td>20</td>\n",
       "      <td>-9999.0</td>\n",
       "      <td>-9999.0</td>\n",
       "      <td>2</td>\n",
       "      <td>-9999.0</td>\n",
       "      <td>-9999.0</td>\n",
       "      <td>-9999.0</td>\n",
       "      <td>-9999.0</td>\n",
       "      <td>-9999.0</td>\n",
       "      <td>-9999.0</td>\n",
       "      <td>-9999.0</td>\n",
       "      <td>-409000.0</td>\n",
       "      <td>459000.0</td>\n",
       "      <td>2003</td>\n",
       "    </tr>\n",
       "    <tr>\n",
       "      <th>1</th>\n",
       "      <td>-407000x459000y</td>\n",
       "      <td>2003-02-20</td>\n",
       "      <td>20</td>\n",
       "      <td>-9999.0</td>\n",
       "      <td>-9999.0</td>\n",
       "      <td>2</td>\n",
       "      <td>-9999.0</td>\n",
       "      <td>-9999.0</td>\n",
       "      <td>-9999.0</td>\n",
       "      <td>-9999.0</td>\n",
       "      <td>-9999.0</td>\n",
       "      <td>-9999.0</td>\n",
       "      <td>-9999.0</td>\n",
       "      <td>-407000.0</td>\n",
       "      <td>459000.0</td>\n",
       "      <td>2003</td>\n",
       "    </tr>\n",
       "    <tr>\n",
       "      <th>2</th>\n",
       "      <td>-405000x459000y</td>\n",
       "      <td>2003-02-20</td>\n",
       "      <td>20</td>\n",
       "      <td>-9999.0</td>\n",
       "      <td>-9999.0</td>\n",
       "      <td>2</td>\n",
       "      <td>-9999.0</td>\n",
       "      <td>-9999.0</td>\n",
       "      <td>-9999.0</td>\n",
       "      <td>-9999.0</td>\n",
       "      <td>-9999.0</td>\n",
       "      <td>-9999.0</td>\n",
       "      <td>-9999.0</td>\n",
       "      <td>-405000.0</td>\n",
       "      <td>459000.0</td>\n",
       "      <td>2003</td>\n",
       "    </tr>\n",
       "    <tr>\n",
       "      <th>3</th>\n",
       "      <td>-403000x459000y</td>\n",
       "      <td>2003-02-20</td>\n",
       "      <td>20</td>\n",
       "      <td>-9999.0</td>\n",
       "      <td>-9999.0</td>\n",
       "      <td>2</td>\n",
       "      <td>-9999.0</td>\n",
       "      <td>-9999.0</td>\n",
       "      <td>-9999.0</td>\n",
       "      <td>-9999.0</td>\n",
       "      <td>-9999.0</td>\n",
       "      <td>-9999.0</td>\n",
       "      <td>-9999.0</td>\n",
       "      <td>-403000.0</td>\n",
       "      <td>459000.0</td>\n",
       "      <td>2003</td>\n",
       "    </tr>\n",
       "    <tr>\n",
       "      <th>4</th>\n",
       "      <td>-401000x459000y</td>\n",
       "      <td>2003-02-20</td>\n",
       "      <td>20</td>\n",
       "      <td>-9999.0</td>\n",
       "      <td>-9999.0</td>\n",
       "      <td>2</td>\n",
       "      <td>-9999.0</td>\n",
       "      <td>-9999.0</td>\n",
       "      <td>-9999.0</td>\n",
       "      <td>-9999.0</td>\n",
       "      <td>-9999.0</td>\n",
       "      <td>-9999.0</td>\n",
       "      <td>-9999.0</td>\n",
       "      <td>-401000.0</td>\n",
       "      <td>459000.0</td>\n",
       "      <td>2003</td>\n",
       "    </tr>\n",
       "  </tbody>\n",
       "</table>\n",
       "</div>"
      ],
      "text/plain": [
       "        sc_cell_id    sc_date  sc_day  sc_eto    sc_k  sc_month  sc_rnl  \\\n",
       "0  -409000x459000y 2003-02-20      20 -9999.0 -9999.0         2 -9999.0   \n",
       "1  -407000x459000y 2003-02-20      20 -9999.0 -9999.0         2 -9999.0   \n",
       "2  -405000x459000y 2003-02-20      20 -9999.0 -9999.0         2 -9999.0   \n",
       "3  -403000x459000y 2003-02-20      20 -9999.0 -9999.0         2 -9999.0   \n",
       "4  -401000x459000y 2003-02-20      20 -9999.0 -9999.0         2 -9999.0   \n",
       "\n",
       "    sc_rs  sc_rso  sc_tdew   sc_tn   sc_tx   sc_u2      sc_x      sc_y  \\\n",
       "0 -9999.0 -9999.0  -9999.0 -9999.0 -9999.0 -9999.0 -409000.0  459000.0   \n",
       "1 -9999.0 -9999.0  -9999.0 -9999.0 -9999.0 -9999.0 -407000.0  459000.0   \n",
       "2 -9999.0 -9999.0  -9999.0 -9999.0 -9999.0 -9999.0 -405000.0  459000.0   \n",
       "3 -9999.0 -9999.0  -9999.0 -9999.0 -9999.0 -9999.0 -403000.0  459000.0   \n",
       "4 -9999.0 -9999.0  -9999.0 -9999.0 -9999.0 -9999.0 -401000.0  459000.0   \n",
       "\n",
       "   sc_year  \n",
       "0     2003  \n",
       "1     2003  \n",
       "2     2003  \n",
       "3     2003  \n",
       "4     2003  "
      ]
     },
     "execution_count": 21,
     "metadata": {},
     "output_type": "execute_result"
    }
   ],
   "source": [
    "df.head()"
   ]
  }
 ],
 "metadata": {
  "kernelspec": {
   "display_name": "Python 2",
   "language": "python",
   "name": "python2"
  },
  "language_info": {
   "codemirror_mode": {
    "name": "ipython",
    "version": 2
   },
   "file_extension": ".py",
   "mimetype": "text/x-python",
   "name": "python",
   "nbconvert_exporter": "python",
   "pygments_lexer": "ipython2",
   "version": "2.7.13"
  }
 },
 "nbformat": 4,
 "nbformat_minor": 2
}
